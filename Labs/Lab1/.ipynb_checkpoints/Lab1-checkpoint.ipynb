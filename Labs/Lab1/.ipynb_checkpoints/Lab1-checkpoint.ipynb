{
 "cells": [
  {
   "cell_type": "markdown",
   "metadata": {},
   "source": [
    "# In Class Lab 1\n",
    "\n",
    "### Due by midnight, thursday in your github repository 'Labs/Lab1' folder\n"
   ]
  },
  {
   "cell_type": "code",
   "execution_count": 1,
   "metadata": {},
   "outputs": [],
   "source": [
    "# Import Modules \n",
    "import numpy as np # import numpy\n",
    "import astropy.units as u # import astropy units\n",
    "from astropy import constants as const # import astropy constants"
   ]
  },
  {
   "cell_type": "markdown",
   "metadata": {},
   "source": [
    "### Astropy Units:  https://docs.astropy.org/en/stable/units/index.html"
   ]
  },
  {
   "cell_type": "markdown",
   "metadata": {},
   "source": [
    "\n",
    "## Part A:  The Local Standard of Rest\n",
    "Proper motion of Sgr A* from Reid & Brunthaler 2004\n",
    "$\\mu = 6.379$ mas/yr \n",
    "\n",
    "Peculiar motion of the sun, $v_\\odot$ = 12.24 km/s  (Schonrich 2010)\n",
    "\n",
    "\n",
    "$v_{tan} = 4.74 \\frac{\\mu}{\\rm mas/yr} \\frac{R_o}{\\rm kpc} = V_{LSR} + v_\\odot$\n",
    "\n",
    "\n",
    "### a)\n",
    "\n",
    "Create a function called VLSR to compute the local standard of res (V$_{LSR}$).\n",
    "\n",
    "The function should take as input: the solar radius (R$_o$), the proper motion (mu)\n",
    "and the peculiar motion of the sun in the $v_\\odot$ direction.\n",
    "\n",
    "Compute V$_{LSR}$ using three different values R$_o$: \n",
    "1. Water Maser Distance for the Sun :  R$_o$ = 8.34 kpc   (Reid 2014 ApJ 783) \n",
    "2. GRAVITY Collaboration Distance for the Sun:  R$_o$ = 8.178 kpc   (Abuter+2019 A&A 625)\n",
    "3. Value for Distance to Sun listed in Sparke & Gallagher : R$_o$ = 7.9 kpc \n"
   ]
  },
  {
   "cell_type": "code",
   "execution_count": 5,
   "metadata": {},
   "outputs": [],
   "source": [
    "#a)\n",
    "#4.74*mu*Ro = VLSR + vsun   <-- our equation\n",
    "\n",
    "def VLSR(Ro, mu=6.379, vsun=12.24*u.km/u.s):\n",
    "    \"\"\" This function will compute the velocity at the local \n",
    "    standard of rest Reid and Brunthaler 2004\n",
    "            VSLR = 4.74*mu*Ro - vsun\n",
    "            \n",
    "    Inputs: Ro (astropy units kpc) Distance from the Sun\n",
    "                to the Galactic Center\n",
    "            mu is the proper motion of Sag A* (mas/yr)\n",
    "                Default is from Reid & Brunthaler 2004\n",
    "            vsun (astropy units km/s) the  peculiar motion of the Sun\n",
    "                in the v direction (Schonrich+2010)\n",
    "                \n",
    "    Outputs: VLSR (astropy units km/s) The local standard of rest    \n",
    "    \"\"\"\n",
    "    VLSR = 4.74*mu*(Ro/u.kpc)*u.km/u.s - vsun \n",
    "    return VLSR"
   ]
  },
  {
   "cell_type": "code",
   "execution_count": 7,
   "metadata": {},
   "outputs": [],
   "source": [
    "#Different values of the distance to the Galactic Center\n",
    "RoReid = 8.34*u.kpc  #Reid + 2014\n",
    "RoAbuter = 8.178*u.kpc  #Abuter + 2019\n",
    "RoSparke = 7.9*u.kpc  #Sparke and Gallagher Text"
   ]
  },
  {
   "cell_type": "code",
   "execution_count": 9,
   "metadata": {},
   "outputs": [
    {
     "name": "stdout",
     "output_type": "stream",
     "text": [
      "239.9320764 km / s\n"
     ]
    }
   ],
   "source": [
    "#Compute VLSR using Reid 2014\n",
    "VSLR_Reid = VLSR(RoReid)\n",
    "print(VSLR_Reid)"
   ]
  },
  {
   "cell_type": "code",
   "execution_count": 13,
   "metadata": {},
   "outputs": [
    {
     "name": "stdout",
     "output_type": "stream",
     "text": [
      "235.03376988000002 km / s\n",
      "235.0 km / s\n"
     ]
    }
   ],
   "source": [
    "#Compute VLSR using Gravity Collab\n",
    "VLSR_Abuter = VLSR(RoAbuter)\n",
    "print(VLSR_Abuter)\n",
    "print(np.round(VLSR_Abuter))"
   ]
  },
  {
   "cell_type": "code",
   "execution_count": 15,
   "metadata": {},
   "outputs": [
    {
     "name": "stdout",
     "output_type": "stream",
     "text": [
      "226.628034 km / s\n"
     ]
    }
   ],
   "source": [
    "#Compute VLSR using Sparke and Gallagher text\n",
    "VSLR_Sparke = VLSR(RoSparke)\n",
    "print(VSLR_Sparke)"
   ]
  },
  {
   "cell_type": "markdown",
   "metadata": {},
   "source": [
    "### b)\n",
    "\n",
    "compute the orbital period of the sun in Gyr using R$_o$ from the GRAVITY Collaboration (assume circular orbit)\n",
    "\n",
    "Note that 1 km/s $\\sim$ 1kpc/Gyr"
   ]
  },
  {
   "cell_type": "code",
   "execution_count": 19,
   "metadata": {},
   "outputs": [],
   "source": [
    "# orbital period = 2piR/v\n",
    "\n",
    "def TorbSun(Ro, Vc):\n",
    "    \"\"\" Function that computes the orbital period of the Sun\n",
    "        T = 2 pi R / v\n",
    "\n",
    "    Inputs: Ro (astropy units kpc) distance to galactic center \n",
    "            from the sun\n",
    "            Vc (astropy units km/s) velocity of the sun in the \"v\" direction \n",
    "\n",
    "    Outputs: T (astropy units Gyr) orbital period            \n",
    "    \"\"\"\n",
    "\n",
    "    VkpcGyr = Vc.to(u.kpc/u.Gyr) #converting Vc to kpc/Gyr\n",
    "    T = 2*np.pi*Ro/VkpcGyr #orbital period\n",
    "\n",
    "    return T"
   ]
  },
  {
   "cell_type": "code",
   "execution_count": 21,
   "metadata": {},
   "outputs": [],
   "source": [
    "VsunPec = 12.24*u.km/u.s #peculiar motion"
   ]
  },
  {
   "cell_type": "code",
   "execution_count": 23,
   "metadata": {},
   "outputs": [],
   "source": [
    "Vsun = VLSR_Abuter + VsunPec #total motion of sun in \"v\" direction"
   ]
  },
  {
   "cell_type": "code",
   "execution_count": 29,
   "metadata": {},
   "outputs": [
    {
     "name": "stdout",
     "output_type": "stream",
     "text": [
      "0.20318680562272234 Gyr\n",
      "0.203 Gyr\n"
     ]
    }
   ],
   "source": [
    "#Orbital period of the Sun\n",
    "T_Abuter = TorbSun(RoAbuter,Vsun)\n",
    "print(T_Abuter)\n",
    "print(np.round(T_Abuter,3))"
   ]
  },
  {
   "cell_type": "markdown",
   "metadata": {},
   "source": [
    "### c)\n",
    "\n",
    "Compute the number of rotations about the GC over the age of the universe (13.8 Gyr)"
   ]
  },
  {
   "cell_type": "code",
   "execution_count": 31,
   "metadata": {},
   "outputs": [
    {
     "name": "stdout",
     "output_type": "stream",
     "text": [
      "67.91779593023313\n"
     ]
    }
   ],
   "source": [
    "AgeUniverse = 13.8*u.Gyr\n",
    "print(AgeUniverse/T_Abuter)"
   ]
  },
  {
   "cell_type": "markdown",
   "metadata": {},
   "source": [
    "## Part B  Dark Matter Density Profiles\n",
    "\n",
    "### a)\n",
    "Try out Fitting Rotation Curves \n",
    "[here](http://wittman.physics.ucdavis.edu/Animations/RotationCurve/GalacticRotation.html)\n",
    "\n",
    "\n",
    "### b)\n",
    "\n",
    "\n",
    "In the Isothermal Sphere model, what is the mass enclosed within the solar radius (R$_o$) in units of M$_\\odot$? \n",
    "\n",
    "Recall that for the Isothermal sphere :\n",
    "$\\rho(r) = \\frac{V_{LSR}^2}{4\\pi G r^2}$\n",
    "\n",
    "Where $G$ = 4.4985e-6 kpc$^3$/Gyr$^2$/M$_\\odot$, r is in kpc and $V_{LSR}$ is in km/s\n",
    "\n",
    "What about at 260 kpc (in units of  M$_\\odot$) ? "
   ]
  },
  {
   "cell_type": "code",
   "execution_count": 33,
   "metadata": {},
   "outputs": [
    {
     "name": "stdout",
     "output_type": "stream",
     "text": [
      "  Name   = Gravitational constant\n",
      "  Value  = 6.6743e-11\n",
      "  Uncertainty  = 1.5e-15\n",
      "  Unit  = m3 / (kg s2)\n",
      "  Reference = CODATA 2018\n"
     ]
    }
   ],
   "source": [
    "print(const.G)"
   ]
  },
  {
   "cell_type": "code",
   "execution_count": 35,
   "metadata": {},
   "outputs": [
    {
     "name": "stdout",
     "output_type": "stream",
     "text": [
      "4.498502151469554e-06 kpc3 / (solMass Gyr2)\n"
     ]
    }
   ],
   "source": [
    "Grav = const.G.to(u.kpc**3/u.Gyr**2/u.Msun)\n",
    "print(Grav)"
   ]
  },
  {
   "cell_type": "code",
   "execution_count": 39,
   "metadata": {},
   "outputs": [],
   "source": [
    "#Density profile rho = VLSR^2/(4*pi*G*R^2)\n",
    "#Mass (r) = integrate rho dV\n",
    "#           integrate rho 4*pi*r^2*dr\n",
    "#           integrate VLSR^2 / (4*pi*G*r^2) * 4*pi*r^2 dr\n",
    "#           integrate VLSR^2/G dr\n",
    "#           VLSR^2/G*r\n",
    "\n",
    "def massIso(r, VLSR):\n",
    "    \"\"\" This function will compute the dark matter mass enclosed\n",
    "    within a given distance, r, assuming an Isothermal Sphere Model\n",
    "        M (r) = VLSR^2/G *r\n",
    "\n",
    "    Inputs: r (astropy unit kpc) distance from the Galactic Center\n",
    "            VLSR (astropy unit km/s) velocity at the Local Standard of Rest\n",
    "\n",
    "    Output: M (astropy unit Msun) mass enclosed within r\n",
    "    \"\"\"\n",
    "    VLSRkpcGyr = VLSR.to(u.kpc/u.Gyr) #translating to kpc/Gyr\n",
    "\n",
    "    M = VLSRkpcGyr**2/Grav *r\n",
    "    \n",
    "    return M"
   ]
  },
  {
   "cell_type": "code",
   "execution_count": 43,
   "metadata": {},
   "outputs": [
    {
     "name": "stdout",
     "output_type": "stream",
     "text": [
      "105038025820.79904 solMass\n",
      "1.05e+11 solMass\n"
     ]
    }
   ],
   "source": [
    "#compute mass enclosed within Ro (Gravity Collab)\n",
    "\n",
    "mIsoSolar = massIso(RoAbuter,VLSR_Abuter)\n",
    "print(mIsoSolar)\n",
    "print(f\"{mIsoSolar:.2e}\")"
   ]
  },
  {
   "cell_type": "code",
   "execution_count": 47,
   "metadata": {},
   "outputs": [
    {
     "name": "stdout",
     "output_type": "stream",
     "text": [
      "3.34e+12 solMass\n"
     ]
    }
   ],
   "source": [
    "#Compute the mass enclosed within 260kpc\n",
    "mIso260 = massIso(260*u.kpc, VLSR_Abuter)\n",
    "print(f\"{mIso260:.2e}\")"
   ]
  },
  {
   "cell_type": "markdown",
   "metadata": {},
   "source": [
    "## c) \n",
    "\n",
    "The Leo I satellite is one of the fastest moving satellite galaxies we know. \n",
    "\n",
    "\n",
    "It is moving with 3D velocity of magnitude: Vtot = 196 km/s at a distance of 260 kpc (Sohn 2013 ApJ 768)\n",
    "\n",
    "If we assume that Leo I is moving at the escape speed:\n",
    "\n",
    "$v_{esc}^2 = 2|\\Phi| = 2 \\int G \\frac{\\rho(r)}{r}dV $ \n",
    "\n",
    "and assuming the Milky Way is well modeled by a Hernquist Sphere with a scale radius of $a$= 30 kpc, what is the minimum mass of the Milky Way (in units of M$_\\odot$) ?  \n",
    "\n",
    "How does this compare to estimates of the mass assuming the Isothermal Sphere model at 260 kpc (from your answer above)"
   ]
  },
  {
   "cell_type": "code",
   "execution_count": 49,
   "metadata": {},
   "outputs": [],
   "source": [
    "#Potential for a Henquist Sphere \n",
    "# Phi = -G*M/(r+a)\n",
    "\n",
    "#Escape Speed becomes:\n",
    "# vesc^2 = 2*G*M/(r+a)\n",
    "\n",
    "#Rearrange for M\n",
    "# M = vesc^2/2/G*(r+a)\n",
    "\n",
    "def massHernVesc(vesc,r,a=30*u.kpc):   #if you have a defualt value for an input variable, it must be the last one in the input list\n",
    "    \"\"\"This function determines the total dark matter mass needed\n",
    "    given an escape speed, assuming a Hernquist profile\n",
    "       M = vesc^2/2/G*(r+a)\n",
    "\n",
    "    Inputs: vesc (astropy units km/s) escape speed (or speed of satellite)\n",
    "            r (astropy units kpc) distance from galactic center\n",
    "            a (astropy units kpc) the Hernquit scale length\n",
    "                default value of 30kpc\n",
    "                \n",
    "    Outputs: M (astropy units Msun) mass within r\n",
    "    \"\"\"\n",
    "    vescKpcGyr = vesc.to(u.kpc/u.Gyr) #translate to kpc/Gyr\n",
    "\n",
    "    M = vescKpcGyr**2/2/Grav*(r+a)\n",
    "\n",
    "    return M"
   ]
  },
  {
   "cell_type": "code",
   "execution_count": 51,
   "metadata": {},
   "outputs": [],
   "source": [
    "Vleo = 196*u.km/u.s #speed of Leo 1 from Sohn et al.\n",
    "r = 260*u.kpc"
   ]
  },
  {
   "cell_type": "code",
   "execution_count": 53,
   "metadata": {},
   "outputs": [
    {
     "name": "stdout",
     "output_type": "stream",
     "text": [
      "1.30e+12 solMass\n"
     ]
    }
   ],
   "source": [
    "MLeoI = massHernVesc(Vleo,r)\n",
    "print(f\"{MLeoI:.2e}\")"
   ]
  },
  {
   "cell_type": "code",
   "execution_count": 55,
   "metadata": {},
   "outputs": [
    {
     "data": {
      "text/latex": [
       "$2.5784204 \\; \\mathrm{}$"
      ],
      "text/plain": [
       "<Quantity 2.57842045>"
      ]
     },
     "execution_count": 55,
     "metadata": {},
     "output_type": "execute_result"
    }
   ],
   "source": [
    "mIso260/MLeoI"
   ]
  },
  {
   "cell_type": "code",
   "execution_count": null,
   "metadata": {},
   "outputs": [],
   "source": [
    "#save this into my github repository  Lab-Lab1-thisfile"
   ]
  }
 ],
 "metadata": {
  "kernelspec": {
   "display_name": "Python 3 (ipykernel)",
   "language": "python",
   "name": "python3"
  },
  "language_info": {
   "codemirror_mode": {
    "name": "ipython",
    "version": 3
   },
   "file_extension": ".py",
   "mimetype": "text/x-python",
   "name": "python",
   "nbconvert_exporter": "python",
   "pygments_lexer": "ipython3",
   "version": "3.12.4"
  }
 },
 "nbformat": 4,
 "nbformat_minor": 4
}
